{
 "cells": [
  {
   "cell_type": "code",
   "execution_count": 7,
   "metadata": {},
   "outputs": [
    {
     "name": "stdout",
     "output_type": "stream",
     "text": [
      "Index(['Category',     'COl1',     'COL2',     'meas',     202304,     202305,\n",
      "           202306,     202307,     202308,     202309,     202310,     202311,\n",
      "           202312,     202401,     202402,     202403,     202404],\n",
      "      dtype='object')\n",
      "   Category      meas  202304  202305  202306  202307  202308  202309  202310  \\\n",
      "1  bundle 1  big test     2.0     2.0     2.0     2.0     2.0     2.0     2.0   \n",
      "2  bundle 1      fadd     3.0     3.0     3.0     3.0     3.0     3.0     3.0   \n",
      "3  bundle 1      gdag     4.0     4.0     4.0     4.0     4.0     4.0     4.0   \n",
      "4  bundle 1      test     5.0     5.0     5.0     5.0     5.0     5.0     5.0   \n",
      "5  bundle 1      test     6.0     6.0     6.0     6.0     6.0     6.0     6.0   \n",
      "\n",
      "   202311  202312  202401  202402  202403  202404  \n",
      "1     2.0     2.0     2.0     2.0     2.0     2.0  \n",
      "2     3.0     3.0     3.0     3.0     3.0     3.0  \n",
      "3     4.0     4.0     4.0     4.0     4.0     4.0  \n",
      "4     5.0     5.0     5.0     5.0     5.0     5.0  \n",
      "5     6.0     6.0     6.0     6.0     6.0     6.0  \n",
      "               12        34        56        78        100       122\n",
      "Category  bundle 1  bundle 2  bundle 3  bundle 4  bundle 5  bundle 6\n",
      "202304        13.0      13.0      13.0      13.0      13.0      13.0\n",
      "202305        13.0      13.0      13.0      13.0      13.0      13.0\n",
      "202306        13.0      13.0      13.0      13.0      13.0      13.0\n",
      "202307        13.0      13.0      13.0      13.0      13.0      13.0\n",
      "202308        13.0      13.0      13.0      13.0      13.0      13.0\n",
      "202309        13.0      13.0      13.0      13.0      13.0      13.0\n",
      "202310        13.0      13.0      13.0      13.0      13.0      13.0\n",
      "202311        13.0      13.0      13.0      13.0      13.0      13.0\n",
      "202312        13.0      13.0      13.0      13.0      13.0      13.0\n",
      "202401        13.0      13.0      13.0      13.0      13.0      13.0\n",
      "202402        13.0      13.0      13.0      13.0      13.0      13.0\n",
      "202403        13.0      13.0      13.0      13.0      13.0      13.0\n",
      "202404        13.0      13.0      13.0      13.0      13.0      13.0\n"
     ]
    }
   ],
   "source": [
    "import pandas as pd\n",
    "\n",
    "file_path = 'test.xlsx'\n",
    "\n",
    "df = pd.read_excel(file_path)\n",
    "\n",
    "df = df.iloc[1:,1:]\n",
    "\n",
    "print(df.columns)\n",
    "\n",
    "df = df.drop(df.columns[1:3], axis=1)\n",
    "\n",
    "df['Category'] = df['Category'].ffill()\n",
    "\n",
    "print(df.head())\n",
    "\n",
    "df = df[df['meas'] == 'Imp field']\n",
    "\n",
    "df = df.drop(df.columns[1], axis=1)\n",
    "\n",
    "df = df.T\n",
    "\n",
    "print(df)\n",
    "# df.set_index('Category', inplace=True)\n",
    "# df_transposed = matches.T\n",
    "# df_transposed.reset_index(inplace=True)\n",
    "# print(df_transposed.head())\n",
    "\n",
    "\n"
   ]
  },
  {
   "cell_type": "code",
   "execution_count": null,
   "metadata": {},
   "outputs": [],
   "source": []
  }
 ],
 "metadata": {
  "kernelspec": {
   "display_name": "venv",
   "language": "python",
   "name": "python3"
  },
  "language_info": {
   "codemirror_mode": {
    "name": "ipython",
    "version": 3
   },
   "file_extension": ".py",
   "mimetype": "text/x-python",
   "name": "python",
   "nbconvert_exporter": "python",
   "pygments_lexer": "ipython3",
   "version": "3.12.3"
  },
  "orig_nbformat": 4
 },
 "nbformat": 4,
 "nbformat_minor": 2
}
