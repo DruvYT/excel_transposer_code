{
 "cells": [
  {
   "cell_type": "code",
   "execution_count": 102,
   "id": "62212c7a-4d34-416d-bc97-b7278951f56e",
   "metadata": {},
   "outputs": [
    {
     "name": "stdout",
     "output_type": "stream",
     "text": [
      "   Unnamed: 0  Category  COl1 COL2      meas  202304  202305  202306  202307  \\\n",
      "0         NaN    BUNDLE   NaN  NaN       NaN     NaN     NaN     NaN     NaN   \n",
      "1         NaN  bundle 1   NaN  NaN  big test     2.0     2.0     2.0     2.0   \n",
      "2         NaN       NaN  Test    $      fadd     3.0     3.0     3.0     3.0   \n",
      "3         NaN       NaN  Test    $      gdag     4.0     4.0     4.0     4.0   \n",
      "4         NaN       NaN   NaN  NaN      test     5.0     5.0     5.0     5.0   \n",
      "\n",
      "   202308  202309  202310  202311  202312  202401  202402  202403  202404  \n",
      "0     NaN     NaN     NaN     NaN     NaN     NaN     NaN     NaN     NaN  \n",
      "1     2.0     2.0     2.0     2.0     2.0     2.0     2.0     2.0     2.0  \n",
      "2     3.0     3.0     3.0     3.0     3.0     3.0     3.0     3.0     3.0  \n",
      "3     4.0     4.0     4.0     4.0     4.0     4.0     4.0     4.0     4.0  \n",
      "4     5.0     5.0     5.0     5.0     5.0     5.0     5.0     5.0     5.0  \n"
     ]
    }
   ],
   "source": [
    "import pandas as pd \n",
    "\n",
    "file_path = 'test.xlsx'\n",
    "df = pd.read_excel(file_path)\n",
    "\n",
    "print(df.head())"
   ]
  },
  {
   "cell_type": "code",
   "execution_count": 103,
   "id": "cc512791",
   "metadata": {},
   "outputs": [
    {
     "name": "stdout",
     "output_type": "stream",
     "text": [
      "     Category  COl1 COL2      meas  202304  202305  202306  202307  202308  \\\n",
      "0      BUNDLE   NaN  NaN       NaN     NaN     NaN     NaN     NaN     NaN   \n",
      "1    bundle 1   NaN  NaN  big test     2.0     2.0     2.0     2.0     2.0   \n",
      "2         NaN  Test    $      fadd     3.0     3.0     3.0     3.0     3.0   \n",
      "3         NaN  Test    $      gdag     4.0     4.0     4.0     4.0     4.0   \n",
      "4         NaN   NaN  NaN      test     5.0     5.0     5.0     5.0     5.0   \n",
      "..        ...   ...  ...       ...     ...     ...     ...     ...     ...   \n",
      "126       NaN   NaN  NaN    eateag     4.0     4.0     4.0     4.0     4.0   \n",
      "127       NaN   NaN  NaN    teagea     5.0     5.0     5.0     5.0     5.0   \n",
      "128       NaN   NaN  NaN     tetea     3.0     3.0     3.0     3.0     3.0   \n",
      "129       NaN   NaN  NaN    teatea     2.0     2.0     2.0     2.0     2.0   \n",
      "130       NaN   NaN  NaN    teatea     1.0     1.0     1.0     1.0     1.0   \n",
      "\n",
      "     202309  202310  202311  202312  202401  202402  202403  202404  \n",
      "0       NaN     NaN     NaN     NaN     NaN     NaN     NaN     NaN  \n",
      "1       2.0     2.0     2.0     2.0     2.0     2.0     2.0     2.0  \n",
      "2       3.0     3.0     3.0     3.0     3.0     3.0     3.0     3.0  \n",
      "3       4.0     4.0     4.0     4.0     4.0     4.0     4.0     4.0  \n",
      "4       5.0     5.0     5.0     5.0     5.0     5.0     5.0     5.0  \n",
      "..      ...     ...     ...     ...     ...     ...     ...     ...  \n",
      "126     4.0     4.0     4.0     4.0     4.0     4.0     4.0     4.0  \n",
      "127     5.0     5.0     5.0     5.0     5.0     5.0     5.0     5.0  \n",
      "128     3.0     3.0     3.0     3.0     3.0     3.0     3.0     3.0  \n",
      "129     2.0     2.0     2.0     2.0     2.0     2.0     2.0     2.0  \n",
      "130     1.0     1.0     1.0     1.0     1.0     1.0     1.0     1.0  \n",
      "\n",
      "[131 rows x 17 columns]\n"
     ]
    }
   ],
   "source": [
    "df = df.drop(df.columns[0], axis=1)\n",
    "\n",
    "print(df)"
   ]
  },
  {
   "cell_type": "code",
   "execution_count": 104,
   "id": "08d973e5",
   "metadata": {},
   "outputs": [
    {
     "name": "stdout",
     "output_type": "stream",
     "text": [
      "   Category      meas  202304  202305  202306  202307  202308  202309  202310  \\\n",
      "0    BUNDLE       NaN     NaN     NaN     NaN     NaN     NaN     NaN     NaN   \n",
      "1  bundle 1  big test     2.0     2.0     2.0     2.0     2.0     2.0     2.0   \n",
      "2       NaN      fadd     3.0     3.0     3.0     3.0     3.0     3.0     3.0   \n",
      "3       NaN      gdag     4.0     4.0     4.0     4.0     4.0     4.0     4.0   \n",
      "4       NaN      test     5.0     5.0     5.0     5.0     5.0     5.0     5.0   \n",
      "\n",
      "   202311  202312  202401  202402  202403  202404  \n",
      "0     NaN     NaN     NaN     NaN     NaN     NaN  \n",
      "1     2.0     2.0     2.0     2.0     2.0     2.0  \n",
      "2     3.0     3.0     3.0     3.0     3.0     3.0  \n",
      "3     4.0     4.0     4.0     4.0     4.0     4.0  \n",
      "4     5.0     5.0     5.0     5.0     5.0     5.0  \n"
     ]
    }
   ],
   "source": [
    "df = pd.read_excel(file_path, usecols=\"B,E:R\")\n",
    "\n",
    "print(df.head())"
   ]
  },
  {
   "cell_type": "code",
   "execution_count": 105,
   "id": "f63abfc5",
   "metadata": {},
   "outputs": [
    {
     "name": "stdout",
     "output_type": "stream",
     "text": [
      "   Category      meas  202304  202305  202306  202307  202308  202309  202310  \\\n",
      "1  bundle 1  big test     2.0     2.0     2.0     2.0     2.0     2.0     2.0   \n",
      "2       NaN      fadd     3.0     3.0     3.0     3.0     3.0     3.0     3.0   \n",
      "3       NaN      gdag     4.0     4.0     4.0     4.0     4.0     4.0     4.0   \n",
      "4       NaN      test     5.0     5.0     5.0     5.0     5.0     5.0     5.0   \n",
      "5       NaN      test     6.0     6.0     6.0     6.0     6.0     6.0     6.0   \n",
      "\n",
      "   202311  202312  202401  202402  202403  202404  \n",
      "1     2.0     2.0     2.0     2.0     2.0     2.0  \n",
      "2     3.0     3.0     3.0     3.0     3.0     3.0  \n",
      "3     4.0     4.0     4.0     4.0     4.0     4.0  \n",
      "4     5.0     5.0     5.0     5.0     5.0     5.0  \n",
      "5     6.0     6.0     6.0     6.0     6.0     6.0  \n"
     ]
    }
   ],
   "source": [
    "df = pd.read_excel(file_path, usecols=\"B,E:R\")\n",
    "\n",
    "df = df.iloc[1:]\n",
    "\n",
    "print(df.head())"
   ]
  },
  {
   "cell_type": "code",
   "execution_count": 107,
   "id": "1382f38f",
   "metadata": {},
   "outputs": [
    {
     "name": "stdout",
     "output_type": "stream",
     "text": [
      "Index(['Category',     'COl1',     'COL2',     'meas',     202304,     202305,\n",
      "           202306,     202307,     202308,     202309,     202310,     202311,\n",
      "           202312,     202401,     202402,     202403,     202404],\n",
      "      dtype='object')\n",
      "   Category  COl1 COL2      meas  202304  202305  202306  202307  202308  \\\n",
      "1  bundle 1   NaN  NaN  big test     2.0     2.0     2.0     2.0     2.0   \n",
      "2       NaN  Test    $      fadd     3.0     3.0     3.0     3.0     3.0   \n",
      "3       NaN  Test    $      gdag     4.0     4.0     4.0     4.0     4.0   \n",
      "4       NaN   NaN  NaN      test     5.0     5.0     5.0     5.0     5.0   \n",
      "5       NaN   NaN  NaN      test     6.0     6.0     6.0     6.0     6.0   \n",
      "\n",
      "   202309  202310  202311  202312  202401  202402  202403  202404  \n",
      "1     2.0     2.0     2.0     2.0     2.0     2.0     2.0     2.0  \n",
      "2     3.0     3.0     3.0     3.0     3.0     3.0     3.0     3.0  \n",
      "3     4.0     4.0     4.0     4.0     4.0     4.0     4.0     4.0  \n",
      "4     5.0     5.0     5.0     5.0     5.0     5.0     5.0     5.0  \n",
      "5     6.0     6.0     6.0     6.0     6.0     6.0     6.0     6.0  \n"
     ]
    }
   ],
   "source": [
    "df = pd.read_excel(file_path)\n",
    "\n",
    "df = df.iloc[1:,1:]\n",
    "\n",
    "print(df.columns)\n",
    "\n",
    "#print(df.head())\n",
    "\n",
    "#df = df.iloc[:, [0, 3, [5:]]]\n",
    "\n",
    "#df = df[['Category', 'meas', 202304]]\n",
    "\n",
    "print(df.head())\n",
    "\n"
   ]
  },
  {
   "cell_type": "code",
   "execution_count": 108,
   "id": "e2fb5984",
   "metadata": {},
   "outputs": [
    {
     "name": "stdout",
     "output_type": "stream",
     "text": [
      "   Category      meas  202304  202305  202306  202307  202308  202309  202310  \\\n",
      "1  bundle 1  big test     2.0     2.0     2.0     2.0     2.0     2.0     2.0   \n",
      "2  bundle 1      fadd     3.0     3.0     3.0     3.0     3.0     3.0     3.0   \n",
      "3  bundle 1      gdag     4.0     4.0     4.0     4.0     4.0     4.0     4.0   \n",
      "4  bundle 1      test     5.0     5.0     5.0     5.0     5.0     5.0     5.0   \n",
      "5  bundle 1      test     6.0     6.0     6.0     6.0     6.0     6.0     6.0   \n",
      "\n",
      "   202311  202312  202401  202402  202403  202404  \n",
      "1     2.0     2.0     2.0     2.0     2.0     2.0  \n",
      "2     3.0     3.0     3.0     3.0     3.0     3.0  \n",
      "3     4.0     4.0     4.0     4.0     4.0     4.0  \n",
      "4     5.0     5.0     5.0     5.0     5.0     5.0  \n",
      "5     6.0     6.0     6.0     6.0     6.0     6.0  \n"
     ]
    }
   ],
   "source": [
    "df = df.drop(df.columns[1:3], axis=1)\n",
    "\n",
    "#df['Category'].fillna(method='ffill', inplace=True)\n",
    "df['Category'] = df['Category'].ffill()\n",
    "\n",
    "print(df.head())\n"
   ]
  },
  {
   "cell_type": "code",
   "execution_count": 109,
   "id": "6cacf0f7",
   "metadata": {},
   "outputs": [
    {
     "name": "stdout",
     "output_type": "stream",
     "text": [
      "     Category       meas  202304  202305  202306  202307  202308  202309  \\\n",
      "12   bundle 1  Imp field    13.0    13.0    13.0    13.0    13.0    13.0   \n",
      "34   bundle 2  Imp field    13.0    13.0    13.0    13.0    13.0    13.0   \n",
      "56   bundle 3  Imp field    13.0    13.0    13.0    13.0    13.0    13.0   \n",
      "78   bundle 4  Imp field    13.0    13.0    13.0    13.0    13.0    13.0   \n",
      "100  bundle 5  Imp field    13.0    13.0    13.0    13.0    13.0    13.0   \n",
      "122  bundle 6  Imp field    13.0    13.0    13.0    13.0    13.0    13.0   \n",
      "\n",
      "     202310  202311  202312  202401  202402  202403  202404  \n",
      "12     13.0    13.0    13.0    13.0    13.0    13.0    13.0  \n",
      "34     13.0    13.0    13.0    13.0    13.0    13.0    13.0  \n",
      "56     13.0    13.0    13.0    13.0    13.0    13.0    13.0  \n",
      "78     13.0    13.0    13.0    13.0    13.0    13.0    13.0  \n",
      "100    13.0    13.0    13.0    13.0    13.0    13.0    13.0  \n",
      "122    13.0    13.0    13.0    13.0    13.0    13.0    13.0  \n"
     ]
    }
   ],
   "source": [
    "matches = df[df['meas'] == 'Imp field']\n",
    "\n",
    "print(matches)"
   ]
  }
 ],
 "metadata": {
  "kernelspec": {
   "display_name": "Python 3 (ipykernel)",
   "language": "python",
   "name": "python3"
  },
  "language_info": {
   "codemirror_mode": {
    "name": "ipython",
    "version": 3
   },
   "file_extension": ".py",
   "mimetype": "text/x-python",
   "name": "python",
   "nbconvert_exporter": "python",
   "pygments_lexer": "ipython3",
   "version": "3.12.3"
  }
 },
 "nbformat": 4,
 "nbformat_minor": 5
}
